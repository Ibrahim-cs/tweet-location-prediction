{
 "cells": [
  {
   "cell_type": "code",
   "execution_count": 1,
   "metadata": {
    "collapsed": true
   },
   "outputs": [],
   "source": [
    "import json\n",
    "import os\n",
    "import geopy\n",
    "import nltk\n",
    "from geopy.geocoders import Nominatim\n",
    "from geopy.exc import GeocoderTimedOut\n",
    "from geopy.exc import GeocoderServiceError\n",
    "geolocator = Nominatim(timeout=2)"
   ]
  },
  {
   "cell_type": "code",
   "execution_count": 2,
   "metadata": {},
   "outputs": [
    {
     "name": "stdout",
     "output_type": "stream",
     "text": [
      "dict_keys(['text', 'reply_count', 'id', 'favorite_count', 'source', 'retweeted', 'coordinates', 'timestamp_ms', 'entities', 'id_str', 'retweet_count', 'user', 'geo', 'lang', 'created_at', 'analysis', 'place'])\n",
      "dict_keys(['text', 'reply_count', 'id', 'favorite_count', 'source', 'retweeted', 'coordinates', 'timestamp_ms', 'entities', 'id_str', 'retweet_count', 'user', 'geo', 'lang', 'created_at', 'analysis', 'place'])\n",
      "dict_keys(['text', 'reply_count', 'id', 'favorite_count', 'source', 'retweeted', 'coordinates', 'timestamp_ms', 'entities', 'id_str', 'retweet_count', 'user', 'geo', 'lang', 'created_at', 'analysis', 'place'])\n"
     ]
    }
   ],
   "source": [
    "filename = \"data_coord.json\"\n",
    "f =  open(filename,\"r\") \n",
    "contents = json.load(f)\n",
    "print(contents[0].keys())\n",
    "print(contents[1].keys())\n",
    "print(contents[2].keys())\n",
    "    "
   ]
  },
  {
   "cell_type": "code",
   "execution_count": 3,
   "metadata": {},
   "outputs": [
    {
     "name": "stdout",
     "output_type": "stream",
     "text": [
      "0\n"
     ]
    }
   ],
   "source": [
    "count=0\n",
    "for cont in contents:\n",
    "    if cont['place'] is None:\n",
    "        count=count+1\n",
    "print(count)"
   ]
  },
  {
   "cell_type": "code",
   "execution_count": 4,
   "metadata": {},
   "outputs": [
    {
     "name": "stdout",
     "output_type": "stream",
     "text": [
      "11449\n",
      "12000\n"
     ]
    }
   ],
   "source": [
    "filename = \"data1.json\"\n",
    "f1 = open(filename,\"r\")\n",
    "contents = json.load(f1)\n",
    "count, countReg=0,0\n",
    "for cont in contents:\n",
    "    countReg = countReg + 1\n",
    "    if cont['place'] is None:\n",
    "        count=count+1\n",
    "print(count)\n",
    "print(countReg)"
   ]
  },
  {
   "cell_type": "code",
   "execution_count": 5,
   "metadata": {
    "collapsed": true
   },
   "outputs": [],
   "source": [
    " def do_geocode(address,attempt):\n",
    "    try:\n",
    "        return geolocator.geocode(address)\n",
    "    except:\n",
    "        if attempt==3:\n",
    "            return 'Err'\n",
    "        print(attempt+1)\n",
    "        return do_geocode(address,attempt+1)"
   ]
  },
  {
   "cell_type": "code",
   "execution_count": null,
   "metadata": {
    "scrolled": true
   },
   "outputs": [
    {
     "name": "stdout",
     "output_type": "stream",
     "text": [
      "Gainesville FL\n",
      "#TRAFFIC\n",
      "PDX\n",
      "New York\n",
      "Pluto \n",
      "Calverton\n",
      "Vancouver, British Columbia\n",
      "Slidell, LA\n",
      "Minnesota\n",
      "Washington D.C.\n",
      "New Brunswick NJ\n",
      "USA\n",
      "Cambridge, MA\n",
      "USA\n",
      "DC-SFO-SW FL-Cuba\n",
      "Maryland/DC\n",
      "Texas, USA\n",
      "New York\n",
      "New Orleans, LA\n",
      "ny\n",
      "Saturn retort, Aquarius erect\n",
      "Bournemouth, England\n",
      "USA\n",
      "USA Heartland, Second Life\n",
      "New York City\n",
      " Manchester/Nigeria \n",
      "United States\n",
      "Plano, TX\n",
      "Woodbury, MN\n",
      "New York\n",
      "Bambang,  Nueva Vizcaya\n",
      "Belleville, NJ USA\n",
      "The Real OC\n",
      "2\n",
      "HighRocky News I RT for planet\n",
      "S.E. PA\n",
      "Minnesota/Washington, DC\n",
      "Palo Alto, CA\n",
      "USA\n",
      "Florida, USA\n",
      "Sugar Land, Texas\n",
      "Cloquet, MN\n",
      "Currently Fly-Over Country\n",
      "South Carolina, USA\n",
      "Gotham City🌃\n",
      "Elmira, NY\n",
      "TRUMP WORLD\n",
      "Los Angeles ,California\n",
      "Soweto\n",
      "USA\n",
      "#TRAFFIC\n",
      "Some where minding mines In ks\n",
      "Minneapolis, MN ✈️ Haiti\n",
      "DKI Jakarta, Indonesia\n",
      "Port St Lucie, FL\n",
      "California\n",
      "Orlando, FL\n",
      "Philadelphia, PA\n"
     ]
    }
   ],
   "source": [
    "countTimeZoneNone = 0\n",
    "countUserLocNone = 0\n",
    "count =0\n",
    "countErr =0\n",
    "timezoneloc = []\n",
    "locationloc = []\n",
    "for cont in contents:\n",
    "    #location \n",
    "    if cont['place'] is None and cont['user']['location'] is not None:\n",
    "        print(cont['user']['location'])\n",
    "        curr = do_geocode(cont['user']['location'],1)\n",
    "        if curr!='Err' and curr is not None:\n",
    "            timezoneloc.append(curr) \n",
    "            count +=1\n",
    "        else:\n",
    "            countErr+=1\n",
    "    '''\n",
    "     elif cont['place'] is None and cont['user']['time_zone'] is not None:\n",
    "        #timezoneloc.append(do_geocode(cont['user']['time_zone'],1))\n",
    "        count +=1\n",
    "        #location = do_geocode(cont['user']['location'],1)'''        \n",
    "   \n",
    "        \n",
    "print(count)\n",
    "print(countErr)\n",
    "#print(countUserLocNone)"
   ]
  },
  {
   "cell_type": "code",
   "execution_count": null,
   "metadata": {
    "collapsed": true
   },
   "outputs": [],
   "source": [
    "print(timezoneloc[:20])\n",
    "print(locationloc[:20])"
   ]
  },
  {
   "cell_type": "code",
   "execution_count": null,
   "metadata": {
    "collapsed": true,
    "scrolled": false
   },
   "outputs": [],
   "source": [
    "from geopy.geocoders import Nominatim\n",
    "geolocator = Nominatim(timeout=3)\n",
    "loc = geolocator.geocode(\"New York\")\n",
    "print(loc)\n",
    "location = geolocator.reverse(str(loc.raw['lat'])+\",\"+str(loc.raw['lon']))\n",
    "print(location.raw)"
   ]
  },
  {
   "cell_type": "code",
   "execution_count": null,
   "metadata": {
    "collapsed": true
   },
   "outputs": [],
   "source": [
    "from geopy.geocoders import Nominatim\n",
    "geolocator = Nominatim()\n",
    "location = geolocator.reverse(\"51.5074, 0.1278\")\n",
    "print(location.raw)"
   ]
  },
  {
   "cell_type": "code",
   "execution_count": null,
   "metadata": {
    "collapsed": true
   },
   "outputs": [],
   "source": [
    "#54.0466° N, 2.8007\n",
    "from geopy.geocoders import Nominatim\n",
    "geolocator = Nominatim()\n",
    "location = geolocator.reverse(\"54.0466, 2.8007\")\n",
    "print(location.raw)"
   ]
  },
  {
   "cell_type": "code",
   "execution_count": null,
   "metadata": {
    "collapsed": true
   },
   "outputs": [],
   "source": [
    "#53.4808° N, 2.2426°\n",
    "from geopy.geocoders import Nominatim\n",
    "geolocator = Nominatim()\n",
    "location = geolocator.reverse(\"55.86, -4.25\")\n",
    "print(location.raw)"
   ]
  },
  {
   "cell_type": "code",
   "execution_count": null,
   "metadata": {
    "collapsed": true
   },
   "outputs": [],
   "source": []
  }
 ],
 "metadata": {
  "kernelspec": {
   "display_name": "Python 3",
   "language": "python",
   "name": "python3"
  },
  "language_info": {
   "codemirror_mode": {
    "name": "ipython",
    "version": 3
   },
   "file_extension": ".py",
   "mimetype": "text/x-python",
   "name": "python",
   "nbconvert_exporter": "python",
   "pygments_lexer": "ipython3",
   "version": "3.6.2"
  }
 },
 "nbformat": 4,
 "nbformat_minor": 2
}
